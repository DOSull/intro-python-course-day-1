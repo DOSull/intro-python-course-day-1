{
 "cells": [
  {
   "cell_type": "markdown",
   "metadata": {},
   "source": [
    "#### GISC 420 T1 2022\n",
    "# Dictionaries\n",
    "This notebook is an overview of material in Chapter 11 of [Think Python](https://greenteapress.com/wp/think-python-2e/).\n",
    "\n",
    "The `dict` or *dictionary* type is a very useful kind of collection in Python, which stores *values* indexed by *keys*. It is a *mapping* from the keys to the values.\n",
    "\n",
    "An empty dictionary can be made in one of two ways either by invoking `dict()` or with empty 'curly' brackets `{}`"
   ]
  },
  {
   "cell_type": "code",
   "execution_count": null,
   "metadata": {},
   "outputs": [],
   "source": [
    "eng_tereo = dict()\n",
    "tereo_eng = {}"
   ]
  },
  {
   "cell_type": "markdown",
   "metadata": {},
   "source": [
    "We can add items to an empty dictionary like this"
   ]
  },
  {
   "cell_type": "code",
   "execution_count": null,
   "metadata": {},
   "outputs": [],
   "source": [
    "eng_tereo['hello'] = 'kia ora'\n",
    "tereo_eng['kia ora'] = 'hello'"
   ]
  },
  {
   "cell_type": "markdown",
   "metadata": {},
   "source": [
    "The values in the square brackets here are the *keys*, while the values assigned are the *values* associated with those keys. We can retrieve them like this:"
   ]
  },
  {
   "cell_type": "code",
   "execution_count": null,
   "metadata": {},
   "outputs": [],
   "source": [
    "print(eng_tereo['hello'])"
   ]
  },
  {
   "cell_type": "markdown",
   "metadata": {},
   "source": [
    "### A brief digression\n",
    "Add another word"
   ]
  },
  {
   "cell_type": "code",
   "execution_count": null,
   "metadata": {},
   "outputs": [],
   "source": [
    "eng_tereo['world'] = 'ao tūroa'"
   ]
  },
  {
   "cell_type": "markdown",
   "metadata": {},
   "source": [
    "Make a little function"
   ]
  },
  {
   "cell_type": "code",
   "execution_count": null,
   "metadata": {},
   "outputs": [],
   "source": [
    "def speak_tereo(words):\n",
    "    tereo_words = []\n",
    "    for word in words.split():\n",
    "        tereo_words.append(eng_tereo[word])\n",
    "    print(' '.join(tereo_words))"
   ]
  },
  {
   "cell_type": "markdown",
   "metadata": {},
   "source": [
    "And now we can do this"
   ]
  },
  {
   "cell_type": "code",
   "execution_count": null,
   "metadata": {},
   "outputs": [],
   "source": [
    "speak_tereo(\"hello world\")"
   ]
  },
  {
   "cell_type": "markdown",
   "metadata": {},
   "source": [
    "\\[Translation is obviously way more complicated than simple word substitution, but I couldn't resist...\\]"
   ]
  },
  {
   "cell_type": "markdown",
   "metadata": {},
   "source": [
    "## OK... back in the room\n",
    "In dictionaries, keys and values can be almost anything, provided the keys are *immutable*. We've already seen that lists are mutable, so they can't be used as keys, but _tuples_ can. A tuple is like a list, but has round brackets:"
   ]
  },
  {
   "cell_type": "code",
   "execution_count": null,
   "metadata": {},
   "outputs": [],
   "source": [
    "values = (1, 2, 3, 4)\n",
    "values"
   ]
  },
  {
   "cell_type": "markdown",
   "metadata": {},
   "source": [
    "Strings are also fine as dictionary keys, as are integers and floats, although you have to be careful about floats, because two values that seem the same might not be _exactly_ the same. \n",
    "\n",
    "Regardless, the fact you can use more or less any value as a key in a dictionary makes dictionaries incredibly useful data structures.\n",
    "\n",
    "In addition to the 'translation' kind of functionality we've just seen they can be used to count things.\n",
    "\n",
    "For example, make a list of 1000 random numbers (although to save space, just look at the first 20 values). We can do this with the `random.randint()` function."
   ]
  },
  {
   "cell_type": "code",
   "execution_count": null,
   "metadata": {},
   "outputs": [],
   "source": [
    "import random\n",
    "numbers = []\n",
    "for i in range(10000):\n",
    "    numbers.append(random.randint(0, 50))\n",
    "numbers[:20]"
   ]
  },
  {
   "cell_type": "markdown",
   "metadata": {},
   "source": [
    "How could we count the number of occurrences of each possible value from 0 to 50 in this list? One way would be to make a new list, like this"
   ]
  },
  {
   "cell_type": "code",
   "execution_count": null,
   "metadata": {},
   "outputs": [],
   "source": [
    "counts = [0] * 51 # we need 51 because 0..50 is 51 values!\n",
    "counts[:20]"
   ]
  },
  {
   "cell_type": "markdown",
   "metadata": {},
   "source": [
    "Then we can go through the list of numbers like this"
   ]
  },
  {
   "cell_type": "code",
   "execution_count": null,
   "metadata": {},
   "outputs": [],
   "source": [
    "for n in numbers:\n",
    "    counts[n] = counts[n] + 1"
   ]
  },
  {
   "cell_type": "markdown",
   "metadata": {},
   "source": [
    "And now print it"
   ]
  },
  {
   "cell_type": "code",
   "execution_count": null,
   "metadata": {},
   "outputs": [],
   "source": [
    "# Note using an enumerate here\n",
    "for number, count in enumerate(counts):\n",
    "    print(f\"{count} {number}'s in the list\")"
   ]
  },
  {
   "cell_type": "markdown",
   "metadata": {},
   "source": [
    "That works OK, but what if the numbers were in a different range? Say they were not 0 to 50, but 100 to 150? Or 1000 to 20000? We would have to know in advance something about what is in the list of numbers to set up our list of counting bins appropriately and change the code accordingly. You can give it a try below"
   ]
  },
  {
   "cell_type": "code",
   "execution_count": null,
   "metadata": {},
   "outputs": [],
   "source": [
    "numbers = []\n",
    "for i in range(10000):\n",
    "    numbers.append(random.randint(1000,20000))\n",
    "\n",
    "# write some code to assemble these counts into a list..."
   ]
  },
  {
   "cell_type": "markdown",
   "metadata": {},
   "source": [
    "Not so easy... and in fact... a dictionary does exactly what we need! \n",
    "\n",
    "With a dictionary it is straightforward."
   ]
  },
  {
   "cell_type": "code",
   "execution_count": null,
   "metadata": {},
   "outputs": [],
   "source": [
    "counts = {}\n",
    "for n in numbers:\n",
    "    if n in counts:\n",
    "        counts[n] = counts[n] + 1\n",
    "    else:\n",
    "        counts[n] = 1\n",
    "        \n",
    "counts"
   ]
  },
  {
   "cell_type": "markdown",
   "metadata": {},
   "source": [
    "The only issue with this approach is that the counts are not ordered, but that is relatively easy to fix (and might not even matter that much). For example"
   ]
  },
  {
   "cell_type": "code",
   "execution_count": null,
   "metadata": {},
   "outputs": [],
   "source": [
    "for number, count in sorted(counts.items()):\n",
    "    print(f\"{count} {number}'s in the list\")"
   ]
  },
  {
   "cell_type": "markdown",
   "metadata": {},
   "source": [
    "The key difference in using the dictionary, is that it only makes a counter for a particular number, *if it is needed*.\n",
    "\n",
    "Also... because a dictionary can use more or less anything as a key, we can use exactly the same code to count the letters in a word or sentence."
   ]
  },
  {
   "cell_type": "code",
   "execution_count": null,
   "metadata": {},
   "outputs": [],
   "source": [
    "def count_occurrences(sequence):\n",
    "    counts = {}\n",
    "    for s in sequence:\n",
    "        if s in counts:\n",
    "            counts[s] = counts[s] + 1\n",
    "        else:\n",
    "            counts[s] = 1\n",
    "    return counts\n",
    "\n",
    "count_occurrences(\"Dictionaries are cool\")"
   ]
  },
  {
   "cell_type": "markdown",
   "metadata": {},
   "source": [
    "In fact, the above function is so flexible it can be used to count numbers in a list as well! (Try it.)"
   ]
  },
  {
   "cell_type": "markdown",
   "metadata": {},
   "source": [
    "## The many uses of dictionaries\n",
    "We've already seen two uses for dictionaries: translations (mappings) and counting things. Dictionaries are a tremendously useful *data structure* that can be used in all kinds of situations. The chapter in _Think Python_ discusses _memoizing_ in some detail. It is worth taking a look at this closely. I have replicated the essentials below.\n",
    "\n",
    "First, we make a *recursive* function to calculate *Fibonacci* numbers. These are numbers in the series, 1, 1, 2, 3, 5, 8, 13, ... and so on, where the next number in the series each time is the sum of the previous two and we set things running starting with 1, 1."
   ]
  },
  {
   "cell_type": "code",
   "execution_count": null,
   "metadata": {},
   "outputs": [],
   "source": [
    "# Recursive function to calculate Fibonacci numbers\n",
    "def fib(n):\n",
    "    # if input is 0, result is 0\n",
    "    if n == 0:\n",
    "        print(\"getting fib(0)\")\n",
    "        return 0\n",
    "    # if input is 1 result is 1\n",
    "    if n == 1:\n",
    "        print(\"getting fib(1)\")\n",
    "        return 1\n",
    "    # otherwise the result is the sum of \n",
    "    # the previous two entries\n",
    "    return fib(n - 1) + fib(n - 2)\n"
   ]
  },
  {
   "cell_type": "markdown",
   "metadata": {},
   "source": [
    "This works OK for fairly small values of `n`"
   ]
  },
  {
   "cell_type": "code",
   "execution_count": null,
   "metadata": {},
   "outputs": [],
   "source": [
    "fib(5)"
   ]
  },
  {
   "cell_type": "markdown",
   "metadata": {},
   "source": [
    "But there is a problem, which you can see because of the *debugging code* I put in to tell us every time we are calculating a result for `fib(0)` or `fib(1)`. The problem is that we are repeatedly getting results we already know.\n",
    "\n",
    "You can see how much of a problem this is by running the cell below. After you have run it, I recommend commenting the code below out, so you don't accidentally run it again..."
   ]
  },
  {
   "cell_type": "code",
   "execution_count": null,
   "metadata": {},
   "outputs": [],
   "source": [
    "fib(20)"
   ]
  },
  {
   "cell_type": "markdown",
   "metadata": {},
   "source": [
    "Using a dictionary, we can make this code *much more efficient* by storing intermediate values as we go and using those if we already know them.  Here's a better Fibonacci function."
   ]
  },
  {
   "cell_type": "code",
   "execution_count": null,
   "metadata": {},
   "outputs": [],
   "source": [
    "# Recursive function to calculate Fibonacci numbers\n",
    "# using a dictionary to remember known results\n",
    "\n",
    "known_fib = {0:0, 1:1}\n",
    "def fib2(n):\n",
    "    if n == 0 or n == 1: \n",
    "        print('getting fib(' + str(n) + ')')\n",
    "    if n in known_fib:\n",
    "        return known_fib[n]\n",
    "    # otherwise the result is the sum of \n",
    "    # the previous two entries\n",
    "    result = fib2(n - 1) + fib2(n - 2)\n",
    "    # and we store it in the dictionary of known results\n",
    "    known_fib[n] = result\n",
    "    return result"
   ]
  },
  {
   "cell_type": "markdown",
   "metadata": {},
   "source": [
    "\\[You don't even want to think about how long the first version of this function would take to run for an input of 500... **don't** try it!\\]\n",
    "\n",
    "It is worth knowing that there is a module (non-standard, so it has to be installed) for handling memoizing, called `cachetools`. You can find out more about it [here](https://pypi.org/project/cachetools/).\n",
    "\n",
    "This is a good example of how we need to use program code **in conjunction with appropriate and well chosen data structures** to efficiently solve programming problems, and is something we will try to look at it in the next couple of weeks. An ability to do this is partly experience, but it is also something that can be learned. An alternative is to use well designed modules written by others to solve problems which is what gets us into APIs, another topic for the coming weeks."
   ]
  }
 ],
 "metadata": {
  "kernelspec": {
   "display_name": "Python 3 (ipykernel)",
   "language": "python",
   "name": "python3"
  },
  "language_info": {
   "codemirror_mode": {
    "name": "ipython",
    "version": 3
   },
   "file_extension": ".py",
   "mimetype": "text/x-python",
   "name": "python",
   "nbconvert_exporter": "python",
   "pygments_lexer": "ipython3",
   "version": "3.9.7"
  }
 },
 "nbformat": 4,
 "nbformat_minor": 4
}
