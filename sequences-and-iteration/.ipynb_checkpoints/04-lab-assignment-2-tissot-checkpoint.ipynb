{
 "cells": [
  {
   "cell_type": "markdown",
   "metadata": {},
   "source": [
    "#### GISC 420 T1 2022\n",
    "# **LAB ASSIGNMENT 2**\n",
    "As usual, there are a few things we need to load before we start"
   ]
  },
  {
   "cell_type": "code",
   "execution_count": null,
   "metadata": {},
   "outputs": [],
   "source": [
    "# You need to run this cell to get things setup\n",
    "%matplotlib inline\n",
    "\n",
    "import matplotlib\n",
    "import matplotlib.pyplot as pyplot\n",
    "\n",
    "import geopandas\n",
    "import shapely\n",
    "\n",
    "import math"
   ]
  },
  {
   "cell_type": "code",
   "execution_count": null,
   "metadata": {},
   "outputs": [],
   "source": []
  },
  {
   "cell_type": "markdown",
   "metadata": {},
   "source": [
    "A key capability of any programming language is iteration over collections of items. \n",
    "\n",
    "Before attempting this assignment you need to be up to speed with [iteration](01-iteration.ipynb), [strings](02-strings.ipynb), and [lists](03-lists.ipynb) in Python. These topics are also covered in Chapters 7, 8, and 10 of [Think Python](https://greenteapress.com/wp/think-python-2e/). You should already have read these chapters and worked through those notebooks. If you haven't done that, stop reading this notebook and complete those instead. It will also be useful to understand how to open and read files. This is discussed in Chapter 14 of the book, but is also covered in this notebook, before we proceed to the assignment itself. "
   ]
  },
  {
   "cell_type": "markdown",
   "metadata": {},
   "source": [
    "## Tissot's indicatrix\n",
    "This assignment explores this topic using [Tissot's indicatrix](https://en.wikipedia.org/wiki/Tissot's_indicatrix) as an example.\n",
    "\n",
    "Tissot's indicatrix visualizes the distortions in a project by showing how a circle of equal area appears in that projection across a set of locations.  Here's an example\n",
    "\n",
    "<img src=\"Mercator.png\" width=50%>\n",
    "\n",
    "This shows how the Mercator projection exaggerates area at high latitudes (this was important in last week's assignment if you hadn't already realised that!) Each circle on the map is the same area on Earth's surface, but those at high latitudes appear considerably larger. Depending on the projection this method also allows us to see how shapes are distorted by a projection."
   ]
  },
  {
   "cell_type": "markdown",
   "metadata": {},
   "source": [
    "## Making a geodesic circle\n",
    "To do this, we are going to need to make equal area circles. I'm calling these `geodesic circles` because these are circles on the surface of a sphere whose radii are measured along the surface of the sphere, not in simple $(x,y)$ coordinates. I have provided code for this below. This code uses similar functions to the one from last week in the [functions notebook](../intro-to-geopandas/02-functions.ipynb)."
   ]
  },
  {
   "cell_type": "code",
   "execution_count": null,
   "metadata": {},
   "outputs": [],
   "source": [
    "# returns a lon-lat point (in degrees) given\n",
    "# a starting lon-lat and bearing and distance **(all in radians)**\n",
    "# equation is from\n",
    "# https://stackoverflow.com/questions/7222382/get-lat-long-given-current-point-distance-and-bearing\n",
    "def lon_lat_at_bearing_and_distance(p, b, d):\n",
    "    lon1 = p[0]\n",
    "    lat1 = p[1]\n",
    "    lat2 = math.asin(math.sin(lat1) * math.cos(d) + \n",
    "                     math.cos(lat1) * math.sin(d) * math.cos(b))\n",
    "    lon2 = lon1 + math.atan2(math.sin(b) * math.sin(d) * math.cos(lat1), \n",
    "                             math.cos(d) - math.sin(lat1) * math.sin(lat1))\n",
    "    # convert result to degrees before returning\n",
    "    return (math.degrees(lon2), math.degrees(lat2))\n",
    "\n",
    "\n",
    "# makes a shapely.geometry in lon-lat coordinates\n",
    "# based on a provide centre point in lon-lat and \n",
    "# radius expressed **in degrees**\n",
    "def geodesic_circle(p=(0,0), rd=2):\n",
    "    # extract the numbers and convert to radians\n",
    "    # assume p is a (lon, lat) tuple in degrees\n",
    "    ll = (math.radians(p[0]), math.radians(p[1]))\n",
    "    # convert rd to degrees\n",
    "    rr = math.radians(rd) \n",
    "    \n",
    "    # empty list for the resulting points\n",
    "    pts = []\n",
    "    # 360 in 1 degree steps\n",
    "    # each time get a point at the distance rr away in that direction\n",
    "    for bearing in range(360):\n",
    "        pts.append(lon_lat_at_bearing_and_distance(ll, math.radians(bearing), rr))\n",
    "    return shapely.geometry.Polygon(pts)\n"
   ]
  },
  {
   "cell_type": "markdown",
   "metadata": {},
   "source": [
    "Check it works by making some geodesic circles in the cell below.  Since they are `shapely.geometry` objects they will plot. Change the centre point to see how the shape varies when they are plotted in simple longitude-latitude space."
   ]
  },
  {
   "cell_type": "code",
   "execution_count": null,
   "metadata": {},
   "outputs": [],
   "source": [
    "# try setting different center lon-lat coordinates, by\n",
    "# providing various values for the `p` parameter\n",
    "# Note the p is in the order lon, lat, so Wellington would be p=(174, -41) or thereabouts\n",
    "geodesic_circle()"
   ]
  },
  {
   "cell_type": "markdown",
   "metadata": {},
   "source": [
    "## Making a GeoDataFrame from a `list` of geodesic circles\n",
    "To plot a Tissot's indicatrix we will make a `GeoDataFrame` from a `list` of geodesic circles, and plot them on top of a map of the world. Below is a function to make a `GeoDataFrame` from a list of `geodesic_circle`s."
   ]
  },
  {
   "cell_type": "code",
   "execution_count": null,
   "metadata": {},
   "outputs": [],
   "source": [
    "def make_gdf_from_circles(circles):\n",
    "    gs = geopandas.GeoSeries(circles)\n",
    "    gdf = geopandas.GeoDataFrame(geometry=gs)\n",
    "    gdf.crs = \"EPSG:4326\" # tell it we are using simple lon-lat\n",
    "    return gdf"
   ]
  },
  {
   "cell_type": "markdown",
   "metadata": {},
   "source": [
    "To show how this works, I'll just make a small list so you can see the idea, like this:"
   ]
  },
  {
   "cell_type": "code",
   "execution_count": null,
   "metadata": {},
   "outputs": [],
   "source": [
    "circle_list = [geodesic_circle(rd=5), \n",
    "               geodesic_circle(p=(0,30), rd=5), \n",
    "               geodesic_circle(p=(0,60), rd=5)\n",
    "              ]\n",
    "tissot = make_gdf_from_circles(circle_list)"
   ]
  },
  {
   "cell_type": "markdown",
   "metadata": {},
   "source": [
    "And finally, here's how we can make a visualization. First grab the built in world dataset:"
   ]
  },
  {
   "cell_type": "code",
   "execution_count": null,
   "metadata": {},
   "outputs": [],
   "source": [
    "world = geopandas.read_file(geopandas.datasets.get_path('naturalearth_lowres'))"
   ]
  },
  {
   "cell_type": "markdown",
   "metadata": {},
   "source": [
    "And now assemble the map"
   ]
  },
  {
   "cell_type": "code",
   "execution_count": null,
   "metadata": {},
   "outputs": [],
   "source": [
    "fig = pyplot.figure(figsize=(12,6))\n",
    "base = fig.add_subplot(111)\n",
    "\n",
    "world.plot(ax=base, facecolor='lightgrey')\n",
    "tissot.plot(ax=base, facecolor='r', alpha=0.5)"
   ]
  },
  {
   "cell_type": "markdown",
   "metadata": {},
   "source": [
    "This is obviously not a very useful example, because it only shows three circles. \n",
    "\n",
    "That's the point of the assignment: to make more extensive sets of circles that will assist in the visualization of distortion in whole Earth projections, using iteration."
   ]
  },
  {
   "cell_type": "markdown",
   "metadata": {},
   "source": [
    "## Here's one I prepared earlier\n",
    "The first approach to this will make use of a list of centres that I made using a package in *R* called [`dggridR` which implements discrete global grids](https://github.com/r-barnes/dggridR).  I have output the resulting equally spaced grid centres to a CSV file `cc.csv`.\n",
    "\n",
    "Reading this file gives us a chance to learn about opening and reading files in Python.  This is surprisingly easy."
   ]
  },
  {
   "cell_type": "code",
   "execution_count": null,
   "metadata": {},
   "outputs": [],
   "source": [
    "# The open() function opens the specified file for reading into a list of lines\n",
    "with open(\"cc.csv\") as file:\n",
    "    data = file.readlines()\n",
    "    \n",
    "# take a look at the first few items in the list (note the slice operation)\n",
    "data[:10]"
   ]
  },
  {
   "cell_type": "markdown",
   "metadata": {},
   "source": [
    "## **The first part of the assignment is in this section**\n",
    "So now we have the list of circle centres. They are in a list (which means we can read through them, *but* it is a list of strings, and the strings also have a `\\n` newline character at the end. (Note that `\\n` counts as only one character, the backslash tells us it is a special character).\n",
    "\n",
    "To make the list of circles we need, we'll have to read through this list of strings, and parse each one into a pair of coordinates to be passed to the `geodesic_circle` function.\n",
    "\n",
    "The comments in the cell below guide you through how to do this.\n",
    "\n",
    "You should complete the cell to make a list of `geodesic_circle`s."
   ]
  },
  {
   "cell_type": "code",
   "execution_count": null,
   "metadata": {},
   "outputs": [],
   "source": [
    "# first make an empty list for the circles\n",
    "# call it something appropriate\n",
    "\n",
    "# loop through the data read from the file using a for loop\n",
    "# you can skip the first line with a slice operation\n",
    "\n",
    "# inside the loop, with each line of the data:\n",
    "# first, remove the last character (the newline character) (this is another slice operation)\n",
    "\n",
    "# second, split the line into two strings at the ',' separator (look back to the available string functions)\n",
    "\n",
    "# now you should have a list of two items, the lon and lat, as strings\n",
    "# so, third, you need to convert these to float values and then pass them into\n",
    "# the geodesic_circle function as the p parameter\n",
    "\n",
    "# finally, append the resulting geodesic_circle to the list of circles"
   ]
  },
  {
   "cell_type": "markdown",
   "metadata": {},
   "source": [
    "Now you have a list of circles, make a `GeoDataFrame` from it using the `make_gdf_from_circles()` function."
   ]
  },
  {
   "cell_type": "code",
   "execution_count": null,
   "metadata": {},
   "outputs": [],
   "source": [
    "# Put a line of code here to make a GeoDataFrame from your list of circles\n"
   ]
  },
  {
   "cell_type": "markdown",
   "metadata": {},
   "source": [
    "And now make a plot, using the code from a cell that we ran a while back (copy and paste it into the cell below, and modify as required."
   ]
  },
  {
   "cell_type": "code",
   "execution_count": null,
   "metadata": {},
   "outputs": [],
   "source": [
    "# Copy and paste code from a cell above to make the map, \n",
    "# but using the GeoDataFrame of circles you made\n"
   ]
  },
  {
   "cell_type": "markdown",
   "metadata": {},
   "source": [
    "## **The second part of the assignment is in this section**\n",
    "Most Tissot indicatrix visualizations make use of a longitude-latitude grid of locations.\n",
    "\n",
    "This will involve nested loops, which will be a good test of your understanding of iteration.\n",
    "\n",
    "Again you will need to start with an empty list.\n",
    "\n",
    "This time you will need two nested loops, one stepping through a series of longitude values, and the inner one stepping through a series of latitude values. It's a good idea to avoid longitude -180 or +180 and latitude -90 or +90 so keep that in mind.\n",
    "\n",
    "Also worth noting are the additional options you can pass to `range()`. Just to give you the idea:"
   ]
  },
  {
   "cell_type": "code",
   "execution_count": null,
   "metadata": {},
   "outputs": [],
   "source": [
    "for x in range(10, 100, 20):\n",
    "    print(x)"
   ]
  },
  {
   "cell_type": "markdown",
   "metadata": {},
   "source": [
    "This should enable you to make outer and inner (nested) `for` loops that generate a suitable set of longitude and latitude values to generate `geodesic_circle`s to `append` to the empty `list` in the same way you did in the previous step.\n",
    "\n",
    "Write code in the cell below."
   ]
  },
  {
   "cell_type": "code",
   "execution_count": null,
   "metadata": {},
   "outputs": [],
   "source": [
    "# Make an empty list for the circles\n",
    "\n",
    "\n",
    "# Use nested for loops and the range operation to make a series of circles\n",
    "# arranged in a longitude - latitude grid, appending them to the list each time\n",
    "\n",
    "\n",
    "# then use make_gdf_from_circles() to make GeoDataFrame from your list of circles\n",
    "\n",
    "\n",
    "# then use the code you used before to make a map"
   ]
  },
  {
   "cell_type": "markdown",
   "metadata": {},
   "source": [
    "## Submission\n",
    "Save a completed notebook with a name that includes your name. Upload to the dropbox provided on blackboard.\n",
    "\n",
    "In the cell below you can provide any commentary you would like."
   ]
  }
 ],
 "metadata": {
  "kernelspec": {
   "display_name": "Python 3 (ipykernel)",
   "language": "python",
   "name": "python3"
  },
  "language_info": {
   "codemirror_mode": {
    "name": "ipython",
    "version": 3
   },
   "file_extension": ".py",
   "mimetype": "text/x-python",
   "name": "python",
   "nbconvert_exporter": "python",
   "pygments_lexer": "ipython3",
   "version": "3.9.7"
  }
 },
 "nbformat": 4,
 "nbformat_minor": 2
}
