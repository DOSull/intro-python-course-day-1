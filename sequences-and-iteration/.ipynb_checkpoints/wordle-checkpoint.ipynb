{
 "cells": [
  {
   "cell_type": "code",
   "execution_count": 1,
   "id": "2f0ffd25",
   "metadata": {},
   "outputs": [],
   "source": [
    "# Hangman script to demonstrate conditionals\n",
    "#\n",
    "# David O'Sullivan\n",
    "# Originally written March 2005\n",
    "# Lightly modified several times since\n",
    "\n",
    "# Updated to Python 3 March 2019\n",
    "\n",
    "# the random module allows for randomization functions\n",
    "import random"
   ]
  },
  {
   "cell_type": "code",
   "execution_count": 2,
   "id": "80e54e97",
   "metadata": {},
   "outputs": [],
   "source": [
    "def get_matching_indexes(attempt, word):\n",
    "    return [i for i in range(5) if attempt[i] == word[i]]"
   ]
  },
  {
   "cell_type": "code",
   "execution_count": 3,
   "id": "93a4da02",
   "metadata": {},
   "outputs": [],
   "source": [
    "def score_attempt(attempt, word, green = \"x\", yellow = \"o\", grey = \".\"):\n",
    "    matches = get_matching_indexes(attempt, word)\n",
    "    other_letters = [c for i, c in enumerate(word) if i not in matches]\n",
    "    other_matches = []\n",
    "    for i in range(5):\n",
    "        if i not in matches:\n",
    "            if attempt[i] in other_letters:\n",
    "                other_matches.append(i)\n",
    "                other_letters.remove(attempt[i])\n",
    "    clue = [grey] * 5\n",
    "    for i in matches:\n",
    "        clue[i] = attempt[i].upper()\n",
    "    for i in other_matches:\n",
    "        clue[i] = attempt[i].lower()\n",
    "    return \"\".join(clue)"
   ]
  },
  {
   "cell_type": "code",
   "execution_count": 4,
   "id": "7084935c",
   "metadata": {},
   "outputs": [],
   "source": [
    "# open and read files of words\n",
    "with open('valid_guesses.txt') as f:\n",
    "    allowed_words = f.readlines()\n",
    "\n",
    "with open('wordlist.txt') as f:\n",
    "    answers = f.readlines()\n",
    "\n",
    "# strip of trailing linefeed and convert to lower case\n",
    "allowed_words = [w.strip().lower() for w in allowed_words]\n",
    "answers = [w.strip().lower() for w in answers]"
   ]
  },
  {
   "cell_type": "code",
   "execution_count": null,
   "id": "644f92e3",
   "metadata": {},
   "outputs": [
    {
     "name": "stdout",
     "output_type": "stream",
     "text": [
      "deism\n",
      "\n",
      "I'm thinking of a 5 letter word.  You have 6 attempts to work it out based \n",
      "    on clues I will give in response to your guesses. If one of your letters matches a \n",
      "    letter in the word and is in the right position I will mark it x. If it is in \n",
      "    the word, but in the wrong position, I will mark it o. If it is not in the word \n",
      "    at all I will mark it .\n",
      "\n",
      "Attempt 1: diner\n",
      "\u001b[F\u001b[17GDi.e.\n",
      "Attempt 2: "
     ]
    }
   ],
   "source": [
    "# Whole program nested in infinite loop\n",
    "# break from loop to end program\n",
    "while True:\n",
    "    guess_number = 1\n",
    "    unused_letters = 'ABCDEFGHIJKLMNOPQRSTUVWXYZ'\n",
    "    # select a word at random from the file\n",
    "    word = random.choice(answers).lower()\n",
    "    print(word)\n",
    "    # make a string of the same number of dashes\n",
    "    user_word = ''\n",
    "    # Greet the player and tell them what to do\n",
    "    print(\"\"\"\\nI'm thinking of a 5 letter word.  You have 6 attempts to work it out based \n",
    "    on clues I will give in response to your guesses. If one of your letters matches a \n",
    "    letter in the word and is in the right position I will mark it x. If it is in \n",
    "    the word, but in the wrong position, I will mark it o. If it is not in the word \n",
    "    at all I will mark it .\\n\"\"\")\n",
    "\n",
    "    while guess_number < 7:\n",
    "        # Get the next guess from the player\n",
    "        attempt = input(f'Attempt {guess_number}: ')\n",
    "        # handle the * case -- which indicates player wants to finish\n",
    "        if attempt == '*':\n",
    "            print ('\\n')\n",
    "            break\n",
    "        if attempt == '':\n",
    "            print ('\\n')\n",
    "            continue\n",
    "\n",
    "        # convert the guess to lower case\n",
    "        attempt = attempt.lower()\n",
    "        # check that guesses are letters\n",
    "        if not attempt.isalpha():\n",
    "            print('Your guess should be all letters.\\n')\n",
    "            continue\n",
    "        if not attempt in allowed_words:\n",
    "            print('Your guess is not a word, try again.\\n')\n",
    "            continue\n",
    "\n",
    "        clue = [\".\"] * 5\n",
    "        for i, c in enumerate(attempt):\n",
    "            if c == word[i]:\n",
    "                clue[i] = \"x\"               \n",
    "        for i, c in enumerate(attempt):\n",
    "            if c in word and c != word[i]:\n",
    "                clue[i] = \"x\"               \n",
    "        \n",
    "        ncols = 17\n",
    "        print(f\"\\033[F\\033[{ncols}G {score_attempt(attempt, word)}\")\n",
    "        guess_number = guess_number + 1\n",
    "\n",
    "    again = input('Another game (Y/N)? ')\n",
    "    if again == 'y' or again == 'Y':\n",
    "        continue\n",
    "    else:\n",
    "        print('\\nBye!')\n",
    "        break"
   ]
  },
  {
   "cell_type": "code",
   "execution_count": 9,
   "id": "aa412ea9",
   "metadata": {},
   "outputs": [],
   "source": [
    "?input"
   ]
  }
 ],
 "metadata": {
  "kernelspec": {
   "display_name": "Python 3 (ipykernel)",
   "language": "python",
   "name": "python3"
  },
  "language_info": {
   "codemirror_mode": {
    "name": "ipython",
    "version": 3
   },
   "file_extension": ".py",
   "mimetype": "text/x-python",
   "name": "python",
   "nbconvert_exporter": "python",
   "pygments_lexer": "ipython3",
   "version": "3.9.7"
  }
 },
 "nbformat": 4,
 "nbformat_minor": 5
}
